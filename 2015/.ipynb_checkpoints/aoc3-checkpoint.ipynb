{
 "cells": [
  {
   "cell_type": "code",
   "execution_count": 1,
   "metadata": {},
   "outputs": [
    {
     "data": {
      "text/plain": [
       "[[20, 3, 11], [15, 27, 5], [6, 29, 7], [30, 15, 9], [19, 29, 21]]"
      ]
     },
     "execution_count": 1,
     "metadata": {},
     "output_type": "execute_result"
    }
   ],
   "source": [
    "with open('aoc2.txt', 'r') as file:\n",
    "    f = file.readlines()\n",
    "\n",
    "a = [i.strip('\\n') for i in f]\n",
    "b = [list(map(int, i.split('x'))) for i in a]\n",
    "b[:5]"
   ]
  },
  {
   "cell_type": "code",
   "execution_count": 2,
   "metadata": {},
   "outputs": [
    {
     "name": "stdout",
     "output_type": "stream",
     "text": [
      "Part 1\n",
      "Answer: 1606483\n"
     ]
    }
   ],
   "source": [
    "# Part 1\n",
    "print('Part 1')\n",
    "\n",
    "total_paper = 0\n",
    "\n",
    "for i in b:\n",
    "    total_paper += 2*i[0]*i[1] + 2*i[0]*i[2] + 2*i[1]*i[2] + sorted(i)[0]*sorted(i)[1]\n",
    "\n",
    "print(f'Answer: {total_paper}')"
   ]
  },
  {
   "cell_type": "code",
   "execution_count": 3,
   "metadata": {},
   "outputs": [
    {
     "name": "stdout",
     "output_type": "stream",
     "text": [
      "Part 2\n",
      "Answer: 3842356\n"
     ]
    }
   ],
   "source": [
    "# Part 2\n",
    "print('Part 2')\n",
    "\n",
    "total_ribbon = 0\n",
    "\n",
    "for i in b:\n",
    "    total_ribbon += 2*sorted(i)[0] + 2*sorted(i)[1] + i[0]*i[1]*i[2]\n",
    "    \n",
    "print(f'Answer: {total_ribbon}')"
   ]
  },
  {
   "cell_type": "code",
   "execution_count": null,
   "metadata": {},
   "outputs": [],
   "source": []
  }
 ],
 "metadata": {
  "kernelspec": {
   "display_name": "Python 3",
   "language": "python",
   "name": "python3"
  },
  "language_info": {
   "codemirror_mode": {
    "name": "ipython",
    "version": 3
   },
   "file_extension": ".py",
   "mimetype": "text/x-python",
   "name": "python",
   "nbconvert_exporter": "python",
   "pygments_lexer": "ipython3",
   "version": "3.8.5"
  }
 },
 "nbformat": 4,
 "nbformat_minor": 4
}
