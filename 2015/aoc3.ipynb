{
 "cells": [
  {
   "cell_type": "code",
   "execution_count": 1,
   "metadata": {},
   "outputs": [],
   "source": [
    "with open('aoc3.txt', 'r') as file:\n",
    "    f = file.readlines()\n",
    "\n",
    "a = f[0]"
   ]
  },
  {
   "cell_type": "code",
   "execution_count": 2,
   "metadata": {},
   "outputs": [
    {
     "name": "stdout",
     "output_type": "stream",
     "text": [
      "Part 1\n",
      "Answer: 2592\n"
     ]
    }
   ],
   "source": [
    "# Part 1\n",
    "print('Part 1')\n",
    "\n",
    "gifts = {'00': 1}\n",
    "pos_x = 0\n",
    "pos_y = 0\n",
    "\n",
    "for i in a:\n",
    "    if i == '^':\n",
    "        pos_y += 1\n",
    "        pos_str = str(pos_x) + str(pos_y)\n",
    "    elif i == 'v':\n",
    "        pos_y -= 1\n",
    "        pos_str = str(pos_x) + str(pos_y)\n",
    "    elif i == '>':\n",
    "        pos_x += 1\n",
    "        pos_str = str(pos_x) + str(pos_y)\n",
    "    elif i == '<':\n",
    "        pos_x -= 1\n",
    "        pos_str = str(pos_x) + str(pos_y)\n",
    "          \n",
    "    if pos_str in gifts.keys():\n",
    "        gifts[pos_str] += 1\n",
    "    else:\n",
    "        gifts[pos_str] = 1\n",
    "\n",
    "# print(sum(i > 1 for i in gifts.values()))\n",
    "print(f'Answer: {len(gifts)}')"
   ]
  },
  {
   "cell_type": "code",
   "execution_count": 3,
   "metadata": {},
   "outputs": [
    {
     "name": "stdout",
     "output_type": "stream",
     "text": [
      "Part 2\n",
      "Answer: 2360\n"
     ]
    }
   ],
   "source": [
    "# Part 2\n",
    "print('Part 2')\n",
    "\n",
    "gifts= {'00': 1}\n",
    "s_pos_x = 0\n",
    "s_pos_y = 0\n",
    "r_pos_x = 0\n",
    "r_pos_y = 0\n",
    "\n",
    "for i in range(len(a)):\n",
    "    if i%2 == 0:\n",
    "        if a[i] == '^':\n",
    "            s_pos_y += 1\n",
    "            pos_str = str(s_pos_x) + str(s_pos_y)\n",
    "        elif a[i] == 'v':\n",
    "            s_pos_y -= 1\n",
    "            pos_str = str(s_pos_x) + str(s_pos_y)\n",
    "        elif a[i] == '>':\n",
    "            s_pos_x += 1\n",
    "            pos_str = str(s_pos_x) + str(s_pos_y)\n",
    "        elif a[i] == '<':\n",
    "            s_pos_x -= 1\n",
    "            pos_str = str(s_pos_x) + str(s_pos_y)\n",
    "\n",
    "        if pos_str in gifts.keys():\n",
    "            gifts[pos_str] += 1\n",
    "        else:\n",
    "            gifts[pos_str] = 1\n",
    "    else:\n",
    "        if a[i] == '^':\n",
    "            r_pos_y += 1\n",
    "            pos_str = str(r_pos_x) + str(r_pos_y)\n",
    "        elif a[i] == 'v':\n",
    "            r_pos_y -= 1\n",
    "            pos_str = str(r_pos_x) + str(r_pos_y)\n",
    "        elif a[i] == '>':\n",
    "            r_pos_x += 1\n",
    "            pos_str = str(r_pos_x) + str(r_pos_y)\n",
    "        elif a[i] == '<':\n",
    "            r_pos_x -= 1\n",
    "            pos_str = str(r_pos_x) + str(r_pos_y)\n",
    "\n",
    "        if pos_str in gifts.keys():\n",
    "            gifts[pos_str] += 1\n",
    "        else:\n",
    "            gifts[pos_str] = 1\n",
    "\n",
    "print(f'Answer: {len(gifts)}')"
   ]
  }
 ],
 "metadata": {
  "kernelspec": {
   "display_name": "Python 3",
   "language": "python",
   "name": "python3"
  },
  "language_info": {
   "codemirror_mode": {
    "name": "ipython",
    "version": 3
   },
   "file_extension": ".py",
   "mimetype": "text/x-python",
   "name": "python",
   "nbconvert_exporter": "python",
   "pygments_lexer": "ipython3",
   "version": "3.8.5"
  }
 },
 "nbformat": 4,
 "nbformat_minor": 4
}
