{
 "cells": [
  {
   "cell_type": "code",
   "execution_count": 1,
   "metadata": {},
   "outputs": [],
   "source": [
    "from itertools import chain, combinations\n",
    "import numpy as np"
   ]
  },
  {
   "cell_type": "code",
   "execution_count": 2,
   "metadata": {},
   "outputs": [],
   "source": [
    "with open('aoc10.txt', 'r') as file:\n",
    "    f = file.readlines()\n",
    "\n",
    "list_1 = [int(i.strip('\\n')) for i in f]"
   ]
  },
  {
   "cell_type": "code",
   "execution_count": 3,
   "metadata": {},
   "outputs": [],
   "source": [
    "def next_value(checkpoint, list_1):\n",
    "    possible = []\n",
    "    for i in list_1:\n",
    "        if 0 < i - checkpoint <= 3:\n",
    "            possible.append(i)\n",
    "    jolt_diff = min(possible) - checkpoint\n",
    "    return jolt_diff, min(possible)\n",
    "\n",
    "def powerset(iterable):\n",
    "    s = list(iterable)\n",
    "    return chain.from_iterable(combinations(s, r) for r in range(len(s)+1))"
   ]
  },
  {
   "cell_type": "code",
   "execution_count": 4,
   "metadata": {},
   "outputs": [
    {
     "name": "stdout",
     "output_type": "stream",
     "text": [
      "Part 1\n",
      "Answer: 1904\n"
     ]
    }
   ],
   "source": [
    "# Part 1\n",
    "print('Part 1')\n",
    "\n",
    "device = max(list_1) + 3\n",
    "checkpoint = 0\n",
    "list_jolt_diffs = []\n",
    "permanent = []\n",
    "\n",
    "while True:\n",
    "    jolt_diff, checkpoint = next_value(checkpoint, list_1)\n",
    "    list_jolt_diffs.append(jolt_diff)\n",
    "    if jolt_diff == 3:\n",
    "        permanent.extend([checkpoint, checkpoint - 3])\n",
    "    if checkpoint == device - 3:\n",
    "        list_jolt_diffs.append(3)\n",
    "        break\n",
    "\n",
    "permanent.extend([0, max(list_1), device])\n",
    "permanent = sorted(list(set(permanent)))\n",
    "print(f'Answer: {list_jolt_diffs.count(1)*list_jolt_diffs.count(3)}')"
   ]
  },
  {
   "cell_type": "code",
   "execution_count": 5,
   "metadata": {},
   "outputs": [
    {
     "name": "stdout",
     "output_type": "stream",
     "text": [
      "Part 2\n",
      "Answer: 10578455953408\n"
     ]
    }
   ],
   "source": [
    "# Part 2\n",
    "print('Part 2')\n",
    "\n",
    "possible = []\n",
    "\n",
    "for i in range(len(permanent)):\n",
    "    try:\n",
    "        list_values = [j for j in list_1 if permanent[i] < j < permanent[i + 1]]\n",
    "        test_1 = len(list_values)\n",
    "    except:\n",
    "        test_1 = 0\n",
    "    if test_1 != 0:\n",
    "        if test_1 <= 2:\n",
    "            possible.append(len(list(powerset(list_values))))\n",
    "        elif test_1 == 3:\n",
    "            possible.append(len(list(powerset(list_values))) - 1)\n",
    "\n",
    "print(f'Answer: {np.prod(np.array(possible))}')"
   ]
  }
 ],
 "metadata": {
  "kernelspec": {
   "display_name": "Python 3",
   "language": "python",
   "name": "python3"
  },
  "language_info": {
   "codemirror_mode": {
    "name": "ipython",
    "version": 3
   },
   "file_extension": ".py",
   "mimetype": "text/x-python",
   "name": "python",
   "nbconvert_exporter": "python",
   "pygments_lexer": "ipython3",
   "version": "3.6.8"
  }
 },
 "nbformat": 4,
 "nbformat_minor": 4
}
