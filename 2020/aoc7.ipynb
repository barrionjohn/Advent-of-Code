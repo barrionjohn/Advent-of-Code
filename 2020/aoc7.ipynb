{
 "cells": [
  {
   "cell_type": "code",
   "execution_count": 1,
   "metadata": {},
   "outputs": [],
   "source": [
    "import re"
   ]
  },
  {
   "cell_type": "code",
   "execution_count": 2,
   "metadata": {},
   "outputs": [],
   "source": [
    "with open('aoc7.txt', 'r') as file:\n",
    "    f = file.readlines()\n",
    "    \n",
    "list_1 = [i.strip('\\n') for i in f]"
   ]
  },
  {
   "cell_type": "code",
   "execution_count": 3,
   "metadata": {},
   "outputs": [],
   "source": [
    "def deconstruct(i):\n",
    "    container = re.split(r' bags?,? contain ?', i)[0]\n",
    "    inside = re.split(r'[,.]', re.split(r' bags?,? contain ?', i)[1])[:-1]\n",
    "    quantity = [int(j) for j in re.findall('\\d+', i)]\n",
    "    contained = [re.sub('bags?', '', re.sub('\\d+\\s+?', '', i)).strip() for i in inside]\n",
    "    contents = dict(zip(contained, quantity))\n",
    "    return container, contents\n",
    "\n",
    "def bag_checker(bag_type, rule_list):\n",
    "    done_bags.append(bag_type)\n",
    "    for i in rule_list:\n",
    "        container, contents = deconstruct(i)\n",
    "        if bag_type in list(contents.keys()):\n",
    "            container_list.append(container)\n",
    "        \n",
    "def many_bags(bag_type, rule_list):\n",
    "    for i in rule_list:\n",
    "        container, contents = deconstruct(i)\n",
    "        if container == bag_type:\n",
    "            return sum(list(contents.values())) + \\\n",
    "                sum([list(contents.values())[k]*many_bags(list(contents.keys())[k], rule_list) \\\n",
    "                     for k in range(len(contents.keys()))])"
   ]
  },
  {
   "cell_type": "code",
   "execution_count": 4,
   "metadata": {},
   "outputs": [
    {
     "name": "stdout",
     "output_type": "stream",
     "text": [
      "Part 1\n",
      "Answer: 169\n"
     ]
    }
   ],
   "source": [
    "# Part 1\n",
    "print('Part 1')\n",
    "\n",
    "container_list = ['shiny gold']\n",
    "done_bags = []\n",
    "for i in container_list:\n",
    "    if i not in done_bags:\n",
    "        bag_checker(i, list_1)\n",
    "print(f'Answer: {len(set(container_list[1:]))}')"
   ]
  },
  {
   "cell_type": "code",
   "execution_count": 5,
   "metadata": {},
   "outputs": [
    {
     "name": "stdout",
     "output_type": "stream",
     "text": [
      "Part 2\n",
      "Answer: 82372\n"
     ]
    }
   ],
   "source": [
    "# Part 2\n",
    "print('Part 2')\n",
    "\n",
    "print(f'Answer: {many_bags(\"shiny gold\", list_1)}') "
   ]
  }
 ],
 "metadata": {
  "kernelspec": {
   "display_name": "Python 3",
   "language": "python",
   "name": "python3"
  },
  "language_info": {
   "codemirror_mode": {
    "name": "ipython",
    "version": 3
   },
   "file_extension": ".py",
   "mimetype": "text/x-python",
   "name": "python",
   "nbconvert_exporter": "python",
   "pygments_lexer": "ipython3",
   "version": "3.6.8"
  }
 },
 "nbformat": 4,
 "nbformat_minor": 4
}
