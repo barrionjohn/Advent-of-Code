{
 "cells": [
  {
   "cell_type": "code",
   "execution_count": 1,
   "metadata": {},
   "outputs": [],
   "source": [
    "import re"
   ]
  },
  {
   "cell_type": "code",
   "execution_count": 2,
   "metadata": {},
   "outputs": [],
   "source": [
    "with open('aoc8.txt', 'r') as file:\n",
    "    f = file.readlines()\n",
    "\n",
    "list_1 = [i.strip('\\n') for i in f]"
   ]
  },
  {
   "cell_type": "code",
   "execution_count": 3,
   "metadata": {},
   "outputs": [],
   "source": [
    "def run_instructions(list_1, acc = 0, index = 0, list_index = [], fixed = False):\n",
    "    while True:\n",
    "        if index in list_index or index == (len(list_1) - 1):\n",
    "            if index == (len(list_1) - 1):\n",
    "                fixed = True\n",
    "            return fixed, acc\n",
    "            break\n",
    "        else:\n",
    "            list_index.append(index)\n",
    "            ins = list_1[index].split(' ')[0]\n",
    "            sign = list_1[index].split(' ')[1][0]\n",
    "            value = int(list_1[index].split(' ')[1][1:])\n",
    "            if ins == 'acc':\n",
    "                if sign == '+':\n",
    "                    acc += value\n",
    "                elif sign == '-':\n",
    "                    acc -= value\n",
    "                index += 1\n",
    "            elif ins == 'jmp':\n",
    "                if sign == '+':\n",
    "                    index += value\n",
    "                elif sign == '-':\n",
    "                    index -= value\n",
    "            elif ins == 'nop':\n",
    "                index += 1"
   ]
  },
  {
   "cell_type": "code",
   "execution_count": 4,
   "metadata": {},
   "outputs": [
    {
     "name": "stdout",
     "output_type": "stream",
     "text": [
      "Part 1\n",
      "Answer: 1818\n"
     ]
    }
   ],
   "source": [
    "# Part 1\n",
    "print('Part 1')\n",
    "\n",
    "acc = 0\n",
    "index = 0\n",
    "list_index = []\n",
    "fixed, final = run_instructions(list_1, acc = acc, index = index, list_index = list_index)\n",
    "\n",
    "print(f'Answer: {final}')"
   ]
  },
  {
   "cell_type": "code",
   "execution_count": 5,
   "metadata": {},
   "outputs": [
    {
     "name": "stdout",
     "output_type": "stream",
     "text": [
      "Part 2\n",
      "Answer: 631\n"
     ]
    }
   ],
   "source": [
    "# Part 2\n",
    "print('Part 2')\n",
    "\n",
    "jmp_index = []\n",
    "nop_index = []\n",
    "for i in range(len(list_1)):\n",
    "    if list_1[i].split(' ')[0] == 'jmp':\n",
    "        jmp_index.append(i)\n",
    "    elif list_1[i].split(' ')[0] == 'nop':\n",
    "        nop_index.append(i)   \n",
    "        \n",
    "for i in [jmp_index, nop_index]:\n",
    "    for j in i:\n",
    "        acc = 0\n",
    "        index = 0\n",
    "        list_index = []\n",
    "        list_1_hold = list_1[:]\n",
    "        if i == jmp_index:\n",
    "            list_1_hold[j] = list_1_hold[j].replace('jmp', 'nop')\n",
    "        elif i == nop_index:\n",
    "            list_1_hold[j] = list_1_hold[j].replace('nop', 'jmp')\n",
    "        fixed, final = run_instructions(list_1_hold, acc = acc, index = index, list_index = list_index)\n",
    "        if fixed == True:\n",
    "            break\n",
    "    break\n",
    "\n",
    "print(f'Answer: {final}')"
   ]
  }
 ],
 "metadata": {
  "kernelspec": {
   "display_name": "Python 3",
   "language": "python",
   "name": "python3"
  },
  "language_info": {
   "codemirror_mode": {
    "name": "ipython",
    "version": 3
   },
   "file_extension": ".py",
   "mimetype": "text/x-python",
   "name": "python",
   "nbconvert_exporter": "python",
   "pygments_lexer": "ipython3",
   "version": "3.6.8"
  }
 },
 "nbformat": 4,
 "nbformat_minor": 4
}
