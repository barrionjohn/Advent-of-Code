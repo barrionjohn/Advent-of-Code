{
 "cells": [
  {
   "cell_type": "code",
   "execution_count": 1,
   "metadata": {},
   "outputs": [],
   "source": [
    "from itertools import chain, combinations\n",
    "import re"
   ]
  },
  {
   "cell_type": "code",
   "execution_count": 2,
   "metadata": {},
   "outputs": [],
   "source": [
    "with open('aoc14.txt', 'r') as file:\n",
    "    f = file.readlines()\n",
    "\n",
    "list_1 = [i.strip('\\n') for i in f]"
   ]
  },
  {
   "cell_type": "code",
   "execution_count": 3,
   "metadata": {},
   "outputs": [],
   "source": [
    "def powerset(iterable):\n",
    "    s = list(iterable)\n",
    "    return chain.from_iterable(combinations(s, r) for r in range(len(s)+1))"
   ]
  },
  {
   "cell_type": "code",
   "execution_count": 4,
   "metadata": {},
   "outputs": [
    {
     "name": "stdout",
     "output_type": "stream",
     "text": [
      "Part 1\n",
      "Answer: 15403588588538\n"
     ]
    }
   ],
   "source": [
    "# Part 1\n",
    "print('Part 1')\n",
    "\n",
    "mask = {}\n",
    "mem = {}\n",
    "\n",
    "for i in list_1:\n",
    "    if i[1] == 'a':\n",
    "        mask = {}\n",
    "        mask = {(35 - j):int(i[7:][j]) for j in range(len(i[7:])) if i[7:][j] != 'X'}\n",
    "    elif i[1] == 'e':\n",
    "        value = 0\n",
    "        address = re.findall('\\d+', i)[0]\n",
    "        binary = format(int(re.findall('\\d+', i)[1]), 'b')\n",
    "        reverse = list(map(int, reversed(binary)))\n",
    "        for j in range(len(reverse)):\n",
    "            if j not in mask.keys() and reverse[j] == 1:\n",
    "                value += 2**j\n",
    "            elif j in mask.keys() and mask[j] == 1:\n",
    "                value += 2**j\n",
    "        for k, v in mask.items():\n",
    "            if k + 1 > len(reverse) and v == 1:\n",
    "                value += 2**k\n",
    "        mem[address] = value\n",
    "        \n",
    "print(f'Answer: {sum(mem.values())}')"
   ]
  },
  {
   "cell_type": "code",
   "execution_count": 5,
   "metadata": {},
   "outputs": [
    {
     "name": "stdout",
     "output_type": "stream",
     "text": [
      "Part 2\n",
      "Answer: 3260587250457\n"
     ]
    }
   ],
   "source": [
    "# Part 2\n",
    "print('Part 2')\n",
    "\n",
    "mask = {}\n",
    "mem = {}\n",
    "\n",
    "for i in list_1:\n",
    "    if i[1] == 'a':\n",
    "        mask = {}\n",
    "        mask = {(35 - j):i[7:][j] for j in range(len(i[7:])) if i[7:][j] != '0'}\n",
    "        powers = [k for k, v in mask.items() if v == 'X']\n",
    "        possible = []\n",
    "        for j in powerset(powers):\n",
    "            possible.append(sum(list(map(lambda x:2**x, j))))\n",
    "    elif i[1] == 'e':\n",
    "        address = re.findall('\\d+', i)[0]\n",
    "        multiplier = int(re.findall('\\d+', i)[1])\n",
    "        binary = format(int(address), 'b')\n",
    "        binary = '0'*(36-len(binary)) + binary\n",
    "        reverse = list(map(int, reversed(binary)))\n",
    "        reverse_masked = []\n",
    "        for j in range(len(reverse)):\n",
    "            if j in [k for k, v in mask.items() if v == '1']:\n",
    "                reverse_masked.append(1)\n",
    "            elif j in [k for k, v in mask.items() if v == 'X']:\n",
    "                reverse_masked.append('X')\n",
    "            else:\n",
    "                reverse_masked.append(reverse[j])\n",
    "        initial_sum = sum([2**i for i in range(len(reverse_masked)) if reverse_masked[i] == 1])\n",
    "        addresses = [i + initial_sum for i in possible]\n",
    "        for j in addresses:\n",
    "            mem[j] = multiplier\n",
    "\n",
    "print(f'Answer: {sum(mem.values())}')"
   ]
  }
 ],
 "metadata": {
  "kernelspec": {
   "display_name": "Python 3",
   "language": "python",
   "name": "python3"
  },
  "language_info": {
   "codemirror_mode": {
    "name": "ipython",
    "version": 3
   },
   "file_extension": ".py",
   "mimetype": "text/x-python",
   "name": "python",
   "nbconvert_exporter": "python",
   "pygments_lexer": "ipython3",
   "version": "3.6.8"
  }
 },
 "nbformat": 4,
 "nbformat_minor": 4
}
