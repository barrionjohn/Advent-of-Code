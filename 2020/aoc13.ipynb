{
 "cells": [
  {
   "cell_type": "code",
   "execution_count": 1,
   "metadata": {},
   "outputs": [],
   "source": [
    "from functools import reduce"
   ]
  },
  {
   "cell_type": "code",
   "execution_count": 2,
   "metadata": {},
   "outputs": [],
   "source": [
    "with open('aoc13.txt', 'r') as file:\n",
    "    f = file.readlines()\n",
    "\n",
    "list_1 = [i.strip('\\n') for i in f]"
   ]
  },
  {
   "cell_type": "code",
   "execution_count": 3,
   "metadata": {},
   "outputs": [],
   "source": [
    "# Rosetta Code implementation of Chinese remainder theorem:\n",
    "# https://rosettacode.org/wiki/Chinese_remainder_theorem#Python_3.6\n",
    "\n",
    "def chinese_remainder(n, a):\n",
    "    sum = 0\n",
    "    prod = reduce(lambda a, b: a*b, n)\n",
    "    for n_i, a_i in zip(n, a):\n",
    "        p = prod // n_i\n",
    "        sum += a_i * mul_inv(p, n_i) * p\n",
    "    return sum % prod\n",
    " \n",
    "def mul_inv(a, b):\n",
    "    b0 = b\n",
    "    x0, x1 = 0, 1\n",
    "    if b == 1: return 1\n",
    "    while a > 1:\n",
    "        q = a // b\n",
    "        a, b = b, a%b\n",
    "        x0, x1 = x1 - q * x0, x0\n",
    "    if x1 < 0: x1 += b0\n",
    "    return x1"
   ]
  },
  {
   "cell_type": "code",
   "execution_count": 4,
   "metadata": {},
   "outputs": [
    {
     "name": "stdout",
     "output_type": "stream",
     "text": [
      "Part 1\n",
      "Answer: 6559\n"
     ]
    }
   ],
   "source": [
    "# Part 1\n",
    "print('Part 1')\n",
    "\n",
    "estimate = int(list_1[0])\n",
    "buses = list(map(int, filter(lambda x: x != 'x', list_1[1].split(','))))\n",
    "departure_times = []\n",
    "\n",
    "for i in buses:\n",
    "    if i != 'x':\n",
    "        departure_times.append(estimate + (int(i) - (estimate%(int(i)))))\n",
    "    else:\n",
    "        continue\n",
    "\n",
    "print(f'Answer: {buses[departure_times.index(min(departure_times))]*(min(departure_times) - estimate)}')"
   ]
  },
  {
   "cell_type": "code",
   "execution_count": 5,
   "metadata": {},
   "outputs": [
    {
     "name": "stdout",
     "output_type": "stream",
     "text": [
      "Part 2\n",
      "Answer: 626670513163231\n"
     ]
    }
   ],
   "source": [
    "# Part 2\n",
    "print('Part 2')\n",
    "\n",
    "n = [int(i) if i != 'x' else 0 for i in list_1[1].split(',')]\n",
    "a = []\n",
    "for i in range(len(n)):\n",
    "    if i == 0:\n",
    "        a.append(0)\n",
    "    elif n[i] != 0:\n",
    "        a.append(n[i] - (i%n[i]))\n",
    "n = list(filter(lambda x: x != 0, n))\n",
    "\n",
    "print(f'Answer: {chinese_remainder(n, a)}')"
   ]
  }
 ],
 "metadata": {
  "kernelspec": {
   "display_name": "Python 3",
   "language": "python",
   "name": "python3"
  },
  "language_info": {
   "codemirror_mode": {
    "name": "ipython",
    "version": 3
   },
   "file_extension": ".py",
   "mimetype": "text/x-python",
   "name": "python",
   "nbconvert_exporter": "python",
   "pygments_lexer": "ipython3",
   "version": "3.6.8"
  }
 },
 "nbformat": 4,
 "nbformat_minor": 4
}
