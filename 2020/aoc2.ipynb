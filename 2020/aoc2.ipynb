{
 "cells": [
  {
   "cell_type": "code",
   "execution_count": 1,
   "metadata": {},
   "outputs": [],
   "source": [
    "import re"
   ]
  },
  {
   "cell_type": "code",
   "execution_count": 2,
   "metadata": {},
   "outputs": [],
   "source": [
    "with open('aoc2.txt', 'r') as file:\n",
    "    f = file.readlines()\n",
    "\n",
    "list_1 = [i.strip('\\n') for i in f]"
   ]
  },
  {
   "cell_type": "code",
   "execution_count": 3,
   "metadata": {},
   "outputs": [
    {
     "name": "stdout",
     "output_type": "stream",
     "text": [
      "Part 1\n",
      "Answer: 572\n"
     ]
    }
   ],
   "source": [
    "# Part 1\n",
    "print('Part 1')\n",
    "\n",
    "counter = 0\n",
    "for i in list_1:\n",
    "    between = [int(j) for j in re.findall('\\d+', i)]\n",
    "    char = i.split(':')[0][-1]\n",
    "    password = i.split(':')[1][1:]\n",
    "    if (password.count(char) >= between[0]) and (password.count(char) <= between[1]):\n",
    "        counter += 1\n",
    "\n",
    "print(f'Answer: {counter}')"
   ]
  },
  {
   "cell_type": "code",
   "execution_count": 4,
   "metadata": {},
   "outputs": [
    {
     "name": "stdout",
     "output_type": "stream",
     "text": [
      "Part 2\n",
      "Answer: 306\n"
     ]
    }
   ],
   "source": [
    "# Part 2\n",
    "print('Part 2')\n",
    "\n",
    "counter = 0\n",
    "for i in list_1:\n",
    "    position = [int(j) for j in re.findall('\\d+', i)]\n",
    "    char = i.split(':')[0][-1]\n",
    "    password = i.split(':')[1][1:]\n",
    "    if int(password[position[0] - 1] == char) + int(password[position[1] - 1] == char) == 1:\n",
    "        counter += 1\n",
    "\n",
    "print(f'Answer: {counter}')"
   ]
  }
 ],
 "metadata": {
  "kernelspec": {
   "display_name": "Python 3",
   "language": "python",
   "name": "python3"
  },
  "language_info": {
   "codemirror_mode": {
    "name": "ipython",
    "version": 3
   },
   "file_extension": ".py",
   "mimetype": "text/x-python",
   "name": "python",
   "nbconvert_exporter": "python",
   "pygments_lexer": "ipython3",
   "version": "3.6.8"
  }
 },
 "nbformat": 4,
 "nbformat_minor": 4
}
