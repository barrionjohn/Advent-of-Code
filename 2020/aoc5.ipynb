{
 "cells": [
  {
   "cell_type": "code",
   "execution_count": 1,
   "metadata": {},
   "outputs": [],
   "source": [
    "import math"
   ]
  },
  {
   "cell_type": "code",
   "execution_count": 2,
   "metadata": {},
   "outputs": [],
   "source": [
    "with open('aoc5.txt', 'r') as file:\n",
    "    f = file.readlines()\n",
    "    \n",
    "list_1 = [i.strip('\\n') for i in f]"
   ]
  },
  {
   "cell_type": "code",
   "execution_count": 3,
   "metadata": {},
   "outputs": [],
   "source": [
    "def seat_id(seat):\n",
    "    r_start = 0\n",
    "    r_end = 127\n",
    "    c_start = 0\n",
    "    c_end = 7\n",
    "    row = 0\n",
    "    column = 0\n",
    "    for i in range(7):\n",
    "        if seat[i] == 'F':\n",
    "            r_end = math.floor((r_start + r_end)/2)\n",
    "            if i == 6:\n",
    "                row = r_end\n",
    "        if seat[i] == 'B':\n",
    "            r_start = math.ceil((r_start + r_end)/2)\n",
    "            if i == 6:\n",
    "                row = r_start\n",
    "\n",
    "    for j in range(7, 10):\n",
    "        if seat[j] == 'L':\n",
    "            c_end = math.floor((c_start + c_end)/2)\n",
    "            if j == 9:\n",
    "                column = c_end\n",
    "        if seat[j] == 'R':\n",
    "            c_start = math.ceil((c_start + c_end)/2)\n",
    "            if j == 9:\n",
    "                column = c_start\n",
    "    return((row * 8) + column)"
   ]
  },
  {
   "cell_type": "code",
   "execution_count": 4,
   "metadata": {},
   "outputs": [
    {
     "name": "stdout",
     "output_type": "stream",
     "text": [
      "Part 1\n",
      "Answer: 955\n"
     ]
    }
   ],
   "source": [
    "# Part 1\n",
    "print('Part 1')\n",
    "\n",
    "highest = 0\n",
    "for i in list_1:\n",
    "    value = seat_id(i)\n",
    "    if value > highest:\n",
    "        highest = value\n",
    "\n",
    "print(f'Answer: {highest}')"
   ]
  },
  {
   "cell_type": "code",
   "execution_count": 5,
   "metadata": {},
   "outputs": [
    {
     "name": "stdout",
     "output_type": "stream",
     "text": [
      "Part 2\n",
      "Answer: 569\n"
     ]
    }
   ],
   "source": [
    "# Part 2\n",
    "print('Part 2')\n",
    "\n",
    "missing_seats = list(set(range(128*8)) - set([seat_id(i) for i in list_1]))\n",
    "for i in missing_seats:\n",
    "    if i + 1 not in missing_seats and i - 1 not in missing_seats:\n",
    "        print(f'Answer: {i}')"
   ]
  }
 ],
 "metadata": {
  "kernelspec": {
   "display_name": "Python 3",
   "language": "python",
   "name": "python3"
  },
  "language_info": {
   "codemirror_mode": {
    "name": "ipython",
    "version": 3
   },
   "file_extension": ".py",
   "mimetype": "text/x-python",
   "name": "python",
   "nbconvert_exporter": "python",
   "pygments_lexer": "ipython3",
   "version": "3.6.8"
  }
 },
 "nbformat": 4,
 "nbformat_minor": 4
}
