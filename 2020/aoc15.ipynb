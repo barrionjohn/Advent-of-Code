{
 "cells": [
  {
   "cell_type": "code",
   "execution_count": 1,
   "metadata": {},
   "outputs": [],
   "source": [
    "with open('aoc15.txt', 'r') as file:\n",
    "    f = file.read().split(',')\n",
    "\n",
    "list_1 = list(map(int, f))"
   ]
  },
  {
   "cell_type": "code",
   "execution_count": 2,
   "metadata": {},
   "outputs": [
    {
     "name": "stdout",
     "output_type": "stream",
     "text": [
      "Part 1\n",
      "Answer: 1009\n"
     ]
    }
   ],
   "source": [
    "# Part 1\n",
    "print('Part 1')\n",
    "\n",
    "list_2020 = list_1[:]\n",
    "memory = {list_2020[i]:[i,0] for i in range(len(list_2020) - 1)}\n",
    "i = len(list_2020) - 1\n",
    "value = list_2020[-1]\n",
    "stop = 2020\n",
    "while i <= (stop - 2):\n",
    "    if value not in memory.keys():\n",
    "        memory[value] = [i,0]\n",
    "        value = 0\n",
    "    else:\n",
    "        memory[value] = [i,memory[value][0]]\n",
    "        value = memory[value][0] - memory[value][1]\n",
    "    i += 1\n",
    "\n",
    "print(f'Answer: {value}')"
   ]
  },
  {
   "cell_type": "code",
   "execution_count": 3,
   "metadata": {},
   "outputs": [
    {
     "name": "stdout",
     "output_type": "stream",
     "text": [
      "Part 2\n",
      "Answer: 62714\n"
     ]
    }
   ],
   "source": [
    "# Part 2\n",
    "print('Part 2')\n",
    "\n",
    "list_2020 = list_1[:]\n",
    "memory = {list_2020[i]:[i,0] for i in range(len(list_2020) - 1)}\n",
    "i = len(list_2020) - 1\n",
    "value = list_2020[-1]\n",
    "stop = 30000000\n",
    "while i <= (stop - 2):\n",
    "    if value not in memory.keys():\n",
    "        memory[value] = [i,0]\n",
    "        value = 0\n",
    "    else:\n",
    "        memory[value] = [i,memory[value][0]]\n",
    "        value = memory[value][0] - memory[value][1]\n",
    "    i += 1\n",
    "\n",
    "print(f'Answer: {value}')"
   ]
  }
 ],
 "metadata": {
  "kernelspec": {
   "display_name": "Python 3",
   "language": "python",
   "name": "python3"
  },
  "language_info": {
   "codemirror_mode": {
    "name": "ipython",
    "version": 3
   },
   "file_extension": ".py",
   "mimetype": "text/x-python",
   "name": "python",
   "nbconvert_exporter": "python",
   "pygments_lexer": "ipython3",
   "version": "3.6.8"
  }
 },
 "nbformat": 4,
 "nbformat_minor": 4
}
