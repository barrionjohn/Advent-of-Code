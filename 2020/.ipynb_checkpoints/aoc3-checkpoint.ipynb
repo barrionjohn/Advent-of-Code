{
 "cells": [
  {
   "cell_type": "code",
   "execution_count": 1,
   "metadata": {},
   "outputs": [],
   "source": [
    "with open('aoc3.txt', 'r') as file:\n",
    "    f = file.readlines()\n",
    "\n",
    "list_1 = [i.strip('\\n') for i in f]"
   ]
  },
  {
   "cell_type": "code",
   "execution_count": 2,
   "metadata": {},
   "outputs": [],
   "source": [
    "def trees(x_delta, y_delta):\n",
    "    xo = 0\n",
    "    count = 0\n",
    "    for i in range(y_delta, len(list_1), y_delta):\n",
    "        xo += x_delta\n",
    "        if list_1[i][xo%31] == '#':\n",
    "            count += 1\n",
    "    return(count)"
   ]
  },
  {
   "cell_type": "code",
   "execution_count": 3,
   "metadata": {},
   "outputs": [
    {
     "name": "stdout",
     "output_type": "stream",
     "text": [
      "Part 1\n",
      "Answer: 191\n"
     ]
    }
   ],
   "source": [
    "# Part 1\n",
    "print('Part 1')\n",
    "print(f'Answer: {trees(3, 1)}')"
   ]
  },
  {
   "cell_type": "code",
   "execution_count": 4,
   "metadata": {},
   "outputs": [
    {
     "name": "stdout",
     "output_type": "stream",
     "text": [
      "Part 2\n",
      "Answer: 1478615040\n"
     ]
    }
   ],
   "source": [
    "# Part 2\n",
    "print('Part 2')\n",
    "print(f'Answer: {trees(1, 1) * trees(3, 1) * trees(5, 1) * trees(7, 1) * trees(1, 2)}')"
   ]
  }
 ],
 "metadata": {
  "kernelspec": {
   "display_name": "Python 3",
   "language": "python",
   "name": "python3"
  },
  "language_info": {
   "codemirror_mode": {
    "name": "ipython",
    "version": 3
   },
   "file_extension": ".py",
   "mimetype": "text/x-python",
   "name": "python",
   "nbconvert_exporter": "python",
   "pygments_lexer": "ipython3",
   "version": "3.6.8"
  }
 },
 "nbformat": 4,
 "nbformat_minor": 4
}
