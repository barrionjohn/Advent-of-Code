{
 "cells": [
  {
   "cell_type": "code",
   "execution_count": 1,
   "metadata": {},
   "outputs": [],
   "source": [
    "import re\n",
    "import numpy as np"
   ]
  },
  {
   "cell_type": "code",
   "execution_count": 2,
   "metadata": {},
   "outputs": [],
   "source": [
    "with open('aoc16.txt', 'r') as file:\n",
    "    f = file.readlines()\n",
    "\n",
    "list_1 = [i.strip('\\n') for i in f]"
   ]
  },
  {
   "cell_type": "code",
   "execution_count": 3,
   "metadata": {},
   "outputs": [
    {
     "name": "stdout",
     "output_type": "stream",
     "text": [
      "Part 1\n",
      "Answer: 22000\n"
     ]
    }
   ],
   "source": [
    "# Part 1\n",
    "print('Part 1')\n",
    "\n",
    "rules = list_1[:list_1.index('')]\n",
    "ranges = []\n",
    "nearby = list_1[list_1.index('nearby tickets:') + 1:]\n",
    "invalid = []\n",
    "value = 0\n",
    "\n",
    "for i in rules:\n",
    "    ranges.append(list(map(int, re.findall('\\d+', i)[:2])))\n",
    "    ranges.append(list(map(int, re.findall('\\d+', i)[2:])))\n",
    "\n",
    "for i in nearby:\n",
    "    for j in map(int, i.split(',')):\n",
    "        included = False\n",
    "        for k in ranges:\n",
    "            if k[0] <= j <= k[1]:\n",
    "                included = True\n",
    "                break\n",
    "        if included == False:\n",
    "            value += j\n",
    "            invalid.append(i)\n",
    "\n",
    "print(f'Answer: {value}')"
   ]
  },
  {
   "cell_type": "code",
   "execution_count": 4,
   "metadata": {},
   "outputs": [
    {
     "name": "stdout",
     "output_type": "stream",
     "text": [
      "Part 2:\n",
      "Answer: 410460648673\n"
     ]
    }
   ],
   "source": [
    "# Part 2\n",
    "print('Part 2:')\n",
    "\n",
    "your_ticket = list(map(int, list_1[list_1.index('your ticket:') + 1].split(',')))\n",
    "rules = [i.split(': ')[0] for i in list_1[:list_1.index('')]]\n",
    "ranges = [[list(map(int, re.findall('\\d+', i.split(': ')[1])[:2])), \\\n",
    "           list(map(int, re.findall('\\d+', i.split(': ')[1])[2:]))] for i in list_1[:list_1.index('')]]\n",
    "rules_dict = dict(zip(rules, ranges))\n",
    "valid = [list(map(int, i.split(','))) for i in nearby if i not in invalid]\n",
    "order = {i:None for i in range(1, 20)}\n",
    "possible = []\n",
    "\n",
    "for i in range(len(valid[0])):\n",
    "    possible.append([])\n",
    "    for k, v in rules_dict.items():\n",
    "        rule_check = True\n",
    "        for j in range(len(valid)):\n",
    "            if not(v[0][0] <= valid[j][i] <= v[0][1] or v[1][0] <= valid[j][i] <= v[1][1]):\n",
    "                rule_check = False\n",
    "                break\n",
    "        if rule_check == True:\n",
    "            possible[i].append(k)\n",
    "            \n",
    "for i in range(1, 21):\n",
    "    for j in range(len(possible)):\n",
    "        if len(possible[j]) == i:\n",
    "            for k in possible[j]:\n",
    "                if k not in order.values():\n",
    "                    order[j + 1] = k\n",
    "            \n",
    "answer_indices = [k for k, v in order.items() if 'departure' in v]\n",
    "print(f'Answer: {np.prod([your_ticket[i] for i in range(len(your_ticket)) if i + 1 in answer_indices])}')"
   ]
  }
 ],
 "metadata": {
  "kernelspec": {
   "display_name": "Python 3",
   "language": "python",
   "name": "python3"
  },
  "language_info": {
   "codemirror_mode": {
    "name": "ipython",
    "version": 3
   },
   "file_extension": ".py",
   "mimetype": "text/x-python",
   "name": "python",
   "nbconvert_exporter": "python",
   "pygments_lexer": "ipython3",
   "version": "3.6.8"
  }
 },
 "nbformat": 4,
 "nbformat_minor": 4
}
