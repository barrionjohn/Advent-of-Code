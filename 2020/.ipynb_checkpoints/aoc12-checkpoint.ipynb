{
 "cells": [
  {
   "cell_type": "code",
   "execution_count": 1,
   "metadata": {},
   "outputs": [],
   "source": [
    "import math"
   ]
  },
  {
   "cell_type": "code",
   "execution_count": 2,
   "metadata": {},
   "outputs": [],
   "source": [
    "with open('aoc12.txt', 'r') as file:\n",
    "    f = file.readlines()\n",
    "\n",
    "list_1 = [i.strip('\\n') for i in f]"
   ]
  },
  {
   "cell_type": "code",
   "execution_count": 3,
   "metadata": {},
   "outputs": [],
   "source": [
    "def rotate(origin, point, angle):\n",
    "    ox, oy = origin\n",
    "    px, py = point\n",
    "\n",
    "    qx = ox + math.cos(math.radians(angle)) * (px - ox) - math.sin(math.radians(angle)) * (py - oy)\n",
    "    qy = oy + math.sin(math.radians(angle)) * (px - ox) + math.cos(math.radians(angle)) * (py - oy)\n",
    "    return qx, qy"
   ]
  },
  {
   "cell_type": "code",
   "execution_count": 4,
   "metadata": {},
   "outputs": [
    {
     "name": "stdout",
     "output_type": "stream",
     "text": [
      "Part 1\n",
      "Answer: 845\n"
     ]
    }
   ],
   "source": [
    "# Part 1\n",
    "print('Part 1')\n",
    "\n",
    "ship = {'x': 0, 'y': 0, 'angle': 0}\n",
    "\n",
    "for i in list_1:\n",
    "    instruction = i[0]\n",
    "    value = int(i[1:])\n",
    "    if instruction == 'N':\n",
    "        ship['y'] += value\n",
    "    elif instruction == 'S':\n",
    "        ship['y'] -= value\n",
    "    elif instruction == 'E':\n",
    "        ship['x'] += value\n",
    "    elif instruction == 'W':\n",
    "        ship['x'] -= value\n",
    "    elif instruction == 'L':\n",
    "        ship['angle'] += value\n",
    "    elif instruction == 'R':\n",
    "        ship['angle'] -= value\n",
    "    elif instruction == 'F':\n",
    "        ship['x'] += value*math.cos(math.radians(ship['angle']))\n",
    "        ship['y'] += value*math.sin(math.radians(ship['angle']))\n",
    "        \n",
    "print(f'Answer: {int(abs(ship[\"x\"]) + abs(ship[\"y\"]))}')"
   ]
  },
  {
   "cell_type": "code",
   "execution_count": 5,
   "metadata": {},
   "outputs": [
    {
     "name": "stdout",
     "output_type": "stream",
     "text": [
      "Part 2\n",
      "Answer: 27016\n"
     ]
    }
   ],
   "source": [
    "# Part 2\n",
    "print('Part 2')\n",
    "\n",
    "ship = {'x': 0, 'y': 0, 'w_x': 10, 'w_y': 1}\n",
    "\n",
    "for i in list_1:\n",
    "    instruction = i[0]\n",
    "    value = int(i[1:])\n",
    "    if instruction == 'N':\n",
    "        ship['w_y'] += value\n",
    "    elif instruction == 'S':\n",
    "        ship['w_y'] -= value\n",
    "    elif instruction == 'E':\n",
    "        ship['w_x'] += value\n",
    "    elif instruction == 'W':\n",
    "        ship['w_x'] -= value\n",
    "    elif instruction == 'L':\n",
    "        ship['w_x'], ship['w_y'] = rotate((0, 0), (ship['w_x'], ship['w_y']), value)\n",
    "    elif instruction == 'R':\n",
    "        ship['w_x'], ship['w_y'] = rotate((0, 0), (ship['w_x'], ship['w_y']), -value)\n",
    "    elif instruction == 'F':\n",
    "        ship['x'] += value*ship['w_x']\n",
    "        ship['y'] += value*ship['w_y']\n",
    "        \n",
    "print(f'Answer: {int(abs(ship[\"x\"]) + abs(ship[\"y\"]))}')"
   ]
  }
 ],
 "metadata": {
  "kernelspec": {
   "display_name": "Python 3",
   "language": "python",
   "name": "python3"
  },
  "language_info": {
   "codemirror_mode": {
    "name": "ipython",
    "version": 3
   },
   "file_extension": ".py",
   "mimetype": "text/x-python",
   "name": "python",
   "nbconvert_exporter": "python",
   "pygments_lexer": "ipython3",
   "version": "3.6.8"
  }
 },
 "nbformat": 4,
 "nbformat_minor": 4
}
