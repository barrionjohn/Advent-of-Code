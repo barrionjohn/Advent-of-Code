{
 "cells": [
  {
   "cell_type": "code",
   "execution_count": 1,
   "metadata": {},
   "outputs": [],
   "source": [
    "with open('aoc9.txt', 'r') as file:\n",
    "    f = file.readlines()\n",
    "\n",
    "list_1 = [int(i.strip('\\n')) for i in f]"
   ]
  },
  {
   "cell_type": "code",
   "execution_count": 2,
   "metadata": {},
   "outputs": [
    {
     "name": "stdout",
     "output_type": "stream",
     "text": [
      "Part 1\n",
      "Answer: 85848519\n"
     ]
    }
   ],
   "source": [
    "# Part 1\n",
    "print('Part 1')\n",
    "\n",
    "for i in range(25, len(list_1)):\n",
    "    valid = False\n",
    "    preceding = list_1[i - 25:i]\n",
    "    for j in range(len(preceding)):\n",
    "        for k in range(j + 1, len(preceding)):\n",
    "            if preceding[j] + preceding[k] == list_1[i]:\n",
    "                valid = True\n",
    "                break\n",
    "        if valid == True:\n",
    "            break\n",
    "    if valid == False:\n",
    "        answer_1 = list_1[i]\n",
    "        break\n",
    "        \n",
    "print(f'Answer: {answer_1}')"
   ]
  },
  {
   "cell_type": "code",
   "execution_count": 3,
   "metadata": {},
   "outputs": [
    {
     "name": "stdout",
     "output_type": "stream",
     "text": [
      "Part 2\n",
      "Answer: 13414198\n"
     ]
    }
   ],
   "source": [
    "# Part 2\n",
    "print('Part 2')\n",
    "\n",
    "for i in range(2, len(list_1)):\n",
    "    done = False\n",
    "    for j in range(len(list_1)):\n",
    "        if sum(list_1[j:j + i]) == answer_1:\n",
    "            done = True\n",
    "            answer_2 = min(list_1[j:j + i]) + max(list_1[j:j + i])\n",
    "            break\n",
    "    if done == True:\n",
    "        break\n",
    "\n",
    "print(f'Answer: {answer_2}')"
   ]
  }
 ],
 "metadata": {
  "kernelspec": {
   "display_name": "Python 3",
   "language": "python",
   "name": "python3"
  },
  "language_info": {
   "codemirror_mode": {
    "name": "ipython",
    "version": 3
   },
   "file_extension": ".py",
   "mimetype": "text/x-python",
   "name": "python",
   "nbconvert_exporter": "python",
   "pygments_lexer": "ipython3",
   "version": "3.6.8"
  }
 },
 "nbformat": 4,
 "nbformat_minor": 4
}
