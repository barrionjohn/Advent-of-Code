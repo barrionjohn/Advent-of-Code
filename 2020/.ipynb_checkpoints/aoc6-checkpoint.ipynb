{
 "cells": [
  {
   "cell_type": "code",
   "execution_count": 1,
   "metadata": {},
   "outputs": [],
   "source": [
    "import re"
   ]
  },
  {
   "cell_type": "code",
   "execution_count": 2,
   "metadata": {},
   "outputs": [],
   "source": [
    "with open('aoc6.txt', 'r') as file:\n",
    "    f = file.readlines()\n",
    "\n",
    "list_1 = [i.strip('\\n') for i in f] + ['']"
   ]
  },
  {
   "cell_type": "code",
   "execution_count": 3,
   "metadata": {},
   "outputs": [
    {
     "name": "stdout",
     "output_type": "stream",
     "text": [
      "Part 1\n",
      "Answer: 6551\n"
     ]
    }
   ],
   "source": [
    "# Part 1\n",
    "print('Part 1')\n",
    "\n",
    "count = 0\n",
    "checkpoint = 0\n",
    "for i in range(len(list_1)):\n",
    "    if list_1[i] == '':\n",
    "        count += len(set(''.join(list_1[checkpoint:i])))\n",
    "        checkpoint = i + 1\n",
    "print(f'Answer: {count}')"
   ]
  },
  {
   "cell_type": "code",
   "execution_count": 4,
   "metadata": {},
   "outputs": [
    {
     "name": "stdout",
     "output_type": "stream",
     "text": [
      "Part 2\n",
      "Answer: 3358\n"
     ]
    }
   ],
   "source": [
    "# Part 2\n",
    "print('Part 2')\n",
    "\n",
    "count = 0\n",
    "people = 0\n",
    "checkpoint = 0\n",
    "for i in range(len(list_1)):\n",
    "    if list_1[i] == '':\n",
    "        value = ''.join(list_1[checkpoint:i])\n",
    "        count += len(set([j for j in value if len(re.findall(j, value)) == len(list_1[checkpoint:i])]))\n",
    "        checkpoint = i + 1\n",
    "        \n",
    "print(f'Answer: {count}')"
   ]
  }
 ],
 "metadata": {
  "kernelspec": {
   "display_name": "Python 3",
   "language": "python",
   "name": "python3"
  },
  "language_info": {
   "codemirror_mode": {
    "name": "ipython",
    "version": 3
   },
   "file_extension": ".py",
   "mimetype": "text/x-python",
   "name": "python",
   "nbconvert_exporter": "python",
   "pygments_lexer": "ipython3",
   "version": "3.6.8"
  }
 },
 "nbformat": 4,
 "nbformat_minor": 4
}
