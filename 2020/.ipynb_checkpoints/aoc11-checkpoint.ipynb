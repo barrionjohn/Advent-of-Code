{
 "cells": [
  {
   "cell_type": "code",
   "execution_count": 1,
   "metadata": {},
   "outputs": [],
   "source": [
    "import numpy as np\n",
    "import copy"
   ]
  },
  {
   "cell_type": "code",
   "execution_count": 2,
   "metadata": {},
   "outputs": [],
   "source": [
    "with open('aoc11.txt', 'r') as file:\n",
    "    f = file.readlines()\n",
    "\n",
    "list_1 = [i.strip('\\n') for i in f]"
   ]
  },
  {
   "cell_type": "code",
   "execution_count": 3,
   "metadata": {},
   "outputs": [],
   "source": [
    "def look_where(i, j, array, x_delta, y_delta):\n",
    "    while True:\n",
    "        i += x_delta\n",
    "        j += y_delta\n",
    "        if i < 0 or j < 0:\n",
    "            return 0\n",
    "        try:\n",
    "            look_next = array[i][j]\n",
    "            if look_next == '.':\n",
    "                continue\n",
    "            elif look_next == 'L':\n",
    "                return 0\n",
    "            elif look_next == '#':\n",
    "                return 1\n",
    "        except:\n",
    "            return 0"
   ]
  },
  {
   "cell_type": "code",
   "execution_count": 4,
   "metadata": {},
   "outputs": [
    {
     "name": "stdout",
     "output_type": "stream",
     "text": [
      "Part 1\n",
      "Answer: 2412\n"
     ]
    }
   ],
   "source": [
    "# Part 1\n",
    "print('Part 1')\n",
    "\n",
    "X = len(list_1) - 1\n",
    "Y = len(list_1[0]) - 1\n",
    "    \n",
    "neighbors = lambda x, y : [[x2, y2] for x2 in range(x-1, x+2)\n",
    "                               for y2 in range(y-1, y+2)\n",
    "                               if (-1 < x <= X and\n",
    "                                   -1 < y <= Y and\n",
    "                                   (x != x2 or y != y2) and\n",
    "                                   (0 <= x2 <= X) and\n",
    "                                   (0 <= y2 <= Y))]\n",
    "\n",
    "array_1 = np.reshape(list(''.join(list_1)), (len(list_1), len(list_1[0])))\n",
    "counter = 0\n",
    "    \n",
    "while True:\n",
    "    if counter == 0:\n",
    "        array_1_change = copy.deepcopy(array_1)\n",
    "    else:\n",
    "        array_1 = copy.deepcopy(array_1_change)\n",
    "    \n",
    "    change = False\n",
    "    \n",
    "    for i in range(len(array_1)):\n",
    "        for j in range(len(array_1[i])):\n",
    "            surround = 0\n",
    "            for k in list(neighbors(i, j)):\n",
    "                if array_1[k[0]][k[1]] == '#':\n",
    "                    surround += 1\n",
    "            if array_1[i][j] == 'L' and surround == 0:\n",
    "                array_1_change[i][j] = '#'\n",
    "                change = True\n",
    "            elif array_1[i][j] == '#' and surround >= 4:\n",
    "                array_1_change[i][j] = 'L'\n",
    "                change = True\n",
    "    \n",
    "    if change == False:\n",
    "        final = 0\n",
    "        for i in array_1_change:\n",
    "            for j in i:\n",
    "                if j == '#':\n",
    "                    final += 1\n",
    "        break\n",
    "\n",
    "    counter += 1\n",
    "    \n",
    "print(f'Answer: {final}')"
   ]
  },
  {
   "cell_type": "code",
   "execution_count": 5,
   "metadata": {},
   "outputs": [
    {
     "name": "stdout",
     "output_type": "stream",
     "text": [
      "Part 2\n",
      "Answer: 2176\n"
     ]
    }
   ],
   "source": [
    "# Part 2\n",
    "print('Part 2')\n",
    "\n",
    "array_1 = np.reshape(list(''.join(list_1)), (len(list_1), len(list_1[0])))\n",
    "counter = 0\n",
    "direction_delta = [[-1, -1], [-1, 0], [-1, 1], [0, -1], [0, 1], [1, -1], [1, 0], [1, 1]]\n",
    "\n",
    "while True:\n",
    "    if counter == 0:\n",
    "        array_1_change = copy.deepcopy(array_1)\n",
    "    else:\n",
    "        array_1 = copy.deepcopy(array_1_change)\n",
    "        \n",
    "    change = False\n",
    "\n",
    "    for i in range(len(array_1)):\n",
    "        for j in range(len(array_1[i])):\n",
    "            surround = 0\n",
    "            for k in direction_delta:\n",
    "                surround += look_where(i, j, array_1, k[0], k[1])\n",
    "                if surround == 5:\n",
    "                    break\n",
    "            if array_1[i][j] == 'L' and surround == 0:\n",
    "                array_1_change[i][j] = '#'\n",
    "                change = True\n",
    "            elif array_1[i][j] == '#' and surround >= 5:\n",
    "                array_1_change[i][j] = 'L'\n",
    "                change = True\n",
    "    \n",
    "    if change == False:\n",
    "        final = 0\n",
    "        for i in array_1_change:\n",
    "            for j in i:\n",
    "                if j == '#':\n",
    "                    final += 1\n",
    "        break\n",
    "\n",
    "    counter += 1\n",
    "    \n",
    "print(f'Answer: {final}')"
   ]
  }
 ],
 "metadata": {
  "kernelspec": {
   "display_name": "Python 3",
   "language": "python",
   "name": "python3"
  },
  "language_info": {
   "codemirror_mode": {
    "name": "ipython",
    "version": 3
   },
   "file_extension": ".py",
   "mimetype": "text/x-python",
   "name": "python",
   "nbconvert_exporter": "python",
   "pygments_lexer": "ipython3",
   "version": "3.6.8"
  }
 },
 "nbformat": 4,
 "nbformat_minor": 4
}
