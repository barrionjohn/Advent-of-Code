{
 "cells": [
  {
   "cell_type": "code",
   "execution_count": 1,
   "metadata": {},
   "outputs": [],
   "source": [
    "import re"
   ]
  },
  {
   "cell_type": "code",
   "execution_count": 2,
   "metadata": {},
   "outputs": [],
   "source": [
    "with open('aoc4.txt', 'r') as file:\n",
    "    f = file.readlines()\n",
    "\n",
    "list_1 = [i.strip('\\n') for i in f] + ['']"
   ]
  },
  {
   "cell_type": "code",
   "execution_count": 3,
   "metadata": {},
   "outputs": [
    {
     "name": "stdout",
     "output_type": "stream",
     "text": [
      "Part 1\n",
      "Answer: 242\n"
     ]
    }
   ],
   "source": [
    "# Part 1\n",
    "print('Part 1')\n",
    "checkpoint = 0\n",
    "list_2 = []\n",
    "list_3 = []\n",
    "count = 0\n",
    "for i in range(len(list_1)):\n",
    "    if list_1[i] == '':\n",
    "        list_2.append(' '.join(list_1[checkpoint:i]))\n",
    "        checkpoint = i + 1\n",
    "for j in list_2:\n",
    "    if ('byr:' in j) and ('iyr:' in j) and ('eyr:' in j) and ('hgt:' in j) and ('hcl:' in j) and ('ecl:' in j) and ('pid:' in j):\n",
    "        list_3.append(j)\n",
    "        count += 1\n",
    "\n",
    "print(f'Answer: {count}')"
   ]
  },
  {
   "cell_type": "code",
   "execution_count": 4,
   "metadata": {},
   "outputs": [
    {
     "name": "stdout",
     "output_type": "stream",
     "text": [
      "Part 2\n",
      "Answer: 186\n"
     ]
    }
   ],
   "source": [
    "# Part 2\n",
    "print('Part 2')\n",
    "count = 0\n",
    "keyDict = {'byr', 'iyr', 'eyr', 'hgt', 'hcl', 'ecl', 'pid'}\n",
    "dict_1 = dict([(key, '') for key in keyDict])\n",
    "for i in list_3:\n",
    "    for j in keyDict:\n",
    "        try:\n",
    "            dict_1[j] = i.split(f'{j}:')[1].split(' ')[0]\n",
    "        except:\n",
    "            pass\n",
    "    if (len(dict_1['byr']) == 4 and 1920 <= int(dict_1['byr']) <= 2002) and \\\n",
    "       (len(dict_1['iyr']) == 4 and 2010 <= int(dict_1['iyr']) <= 2020) and \\\n",
    "       (len(dict_1['eyr']) == 4 and 2020 <= int(dict_1['eyr']) <= 2030) and \\\n",
    "       ((dict_1['hgt'][-2:] == 'cm' and 150 <= int(re.findall('\\d+', dict_1['hgt'])[0]) <= 193) or \\\n",
    "       (dict_1['hgt'][-2:] == 'in' and 59 <= int(re.findall('\\d+', dict_1['hgt'])[0]) <= 76)) and \\\n",
    "       (len(dict_1['hcl']) == 7 and dict_1['hcl'][0] == '#' and set(dict_1['hcl'][1:]).issubset\\\n",
    "       ({'a', 'b', 'c', 'd', 'e', 'f', '0', '1', '2', '3', '4', '5', '6', '7', '8', '9'})) and \\\n",
    "       (len(dict_1['ecl']) == 3 and dict_1['ecl'] in ['amb', 'blu', 'brn', 'gry', 'grn', 'hzl', 'oth']) and \\\n",
    "       (len(dict_1['pid']) == 9 and dict_1['pid'] == re.findall('\\d+', dict_1['pid'])[0]):\n",
    "        count += 1\n",
    "\n",
    "print(f'Answer: {count}')"
   ]
  }
 ],
 "metadata": {
  "kernelspec": {
   "display_name": "Python 3",
   "language": "python",
   "name": "python3"
  },
  "language_info": {
   "codemirror_mode": {
    "name": "ipython",
    "version": 3
   },
   "file_extension": ".py",
   "mimetype": "text/x-python",
   "name": "python",
   "nbconvert_exporter": "python",
   "pygments_lexer": "ipython3",
   "version": "3.6.8"
  }
 },
 "nbformat": 4,
 "nbformat_minor": 4
}
