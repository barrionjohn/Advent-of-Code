{
 "cells": [
  {
   "cell_type": "code",
   "execution_count": 1,
   "metadata": {},
   "outputs": [],
   "source": [
    "with open('aoc1.txt', 'r') as file:\n",
    "    f = file.readlines()\n",
    "\n",
    "a = [int(i.strip('\\n')) for i in f]"
   ]
  },
  {
   "cell_type": "code",
   "execution_count": 2,
   "metadata": {},
   "outputs": [
    {
     "name": "stdout",
     "output_type": "stream",
     "text": [
      "Part 1\n",
      "399 + 1621 = 2020\n",
      "399 * 1621 = 646779\n",
      "Answer: 646779\n"
     ]
    }
   ],
   "source": [
    "# Part 1\n",
    "print('Part 1')\n",
    "\n",
    "for i in range(len(a)):\n",
    "    for j in range(i + 1, len(a)):\n",
    "        if a[i] + a[j] == 2020:\n",
    "            print(f'{a[i]} + {a[j]} = {a[i] + a[j]}')\n",
    "            print(f'{a[i]} * {a[j]} = {a[i] * a[j]}')\n",
    "            print(f'Answer: {a[i] * a[j]}')"
   ]
  },
  {
   "cell_type": "code",
   "execution_count": 3,
   "metadata": {},
   "outputs": [
    {
     "name": "stdout",
     "output_type": "stream",
     "text": [
      "Part 2\n",
      "591 + 1021 + 408 = 2020\n",
      "591 * 1021 * 408 = 246191688\n",
      "Answer: 246191688\n"
     ]
    }
   ],
   "source": [
    "# Part 2\n",
    "print('Part 2')\n",
    "\n",
    "for i in range(len(a)):\n",
    "    for j in range(i + 1, len(a)):\n",
    "        for k in range(j + 1, len(a)):\n",
    "            if a[i] + a[j] + a[k] == 2020:\n",
    "                print(f'{a[i]} + {a[j]} + {a[k]} = {a[i] + a[j] + a[k]}')\n",
    "                print(f'{a[i]} * {a[j]} * {a[k]} = {a[i] * a[j] * a[k]}')\n",
    "                print(f'Answer: {a[i] * a[j] * a[k]}')"
   ]
  }
 ],
 "metadata": {
  "kernelspec": {
   "display_name": "Python 3",
   "language": "python",
   "name": "python3"
  },
  "language_info": {
   "codemirror_mode": {
    "name": "ipython",
    "version": 3
   },
   "file_extension": ".py",
   "mimetype": "text/x-python",
   "name": "python",
   "nbconvert_exporter": "python",
   "pygments_lexer": "ipython3",
   "version": "3.6.8"
  }
 },
 "nbformat": 4,
 "nbformat_minor": 4
}
